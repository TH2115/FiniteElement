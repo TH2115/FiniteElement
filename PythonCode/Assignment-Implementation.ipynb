{
 "cells": [
  {
   "cell_type": "code",
   "execution_count": 1,
   "metadata": {
    "collapsed": true
   },
   "outputs": [],
   "source": [
    "# Import used libraries\n",
    "%matplotlib inline\n",
    "from math import sqrt\n",
    "import numpy as np\n",
    "import matplotlib.pyplot as plt\n",
    "np.set_printoptions(suppress=True)  # supress small results\n",
    "np.set_printoptions(precision=4)  # output precision"
   ]
  },
  {
   "cell_type": "code",
   "execution_count": 2,
   "metadata": {
    "collapsed": true
   },
   "outputs": [],
   "source": [
    "#----- Defining Materials -----------------\n",
    "kx = 250.0  # Thermal conductivity [W/mK]\n",
    "ky = 250.0  # Thermal conductivity [W/mK]\n",
    "kxy = 0.0  # Thermal conductivity [W/mK]\n",
    "\n",
    "#----- Defining Section -----------------\n",
    "th = .2  # Thickness [m]\n",
    "\n",
    "#----- Integration scheme -----------------\n",
    "gaussorder = 2"
   ]
  },
  {
   "cell_type": "code",
   "execution_count": 3,
   "metadata": {
    "collapsed": true
   },
   "outputs": [],
   "source": [
    "#----- Defining Geometry -----------------\n",
    "# h = a * x**2 + b * x + h1:    Beam height as a function of x\n",
    "a = 0  # constant in the polynomial describing the beam height\n",
    "h1 = 1.  # [m] Height at beam left edge\n",
    "h2 = h1 * 1  # [m] Height at beam right edge\n",
    "L = 2. * h1  # [m] Beam length\n",
    "\n",
    "# calculate b constant in the polynomial describing the beam height\n",
    "b = -a * L + (h2 - h1) / L"
   ]
  },
  {
   "cell_type": "code",
   "execution_count": 4,
   "metadata": {
    "collapsed": true
   },
   "outputs": [],
   "source": [
    "#----- Meshing Geometry -----------------\n",
    "nelem_y = 5  # Number of elements in y-direction\n",
    "nelem_x = 10  # Number of elements in the x-direction\n",
    "\n",
    "nnode_elem = 4  # number of nodes in each element\n",
    "nNodeDof = [1, 1, 1, 1]  # number of DoF per node (1 = Temperature only)\n",
    "neDof = sum(nNodeDof)  # total number of DoF per element\n",
    "\n",
    "# Calculatations\n",
    "nelem = nelem_x * nelem_y  # Total number of elements\n",
    "nnode = (nelem_x + 1) * (nelem_y + 1)  # Total number of nodes"
   ]
  },
  {
   "cell_type": "code",
   "execution_count": 5,
   "metadata": {
    "collapsed": false
   },
   "outputs": [],
   "source": [
    "#----- Calculation of Nodal coordinate matrix -> Coord ---------\n",
    "# h(x) = a * x**2 + b * x + h1  # Beam height as a function of x\n",
    "x = np.linspace(0, L, nelem_x + 1)\n",
    "\n",
    "h = a * x**2 + b * x + h1\n",
    "Y = np.zeros((nelem_y + 1, nelem_x + 1))\n",
    "\n",
    "for colnr in range(nelem_x + 1):\n",
    "    Y[:, colnr] = np.linspace(-h[colnr] / 2, h[colnr] / 2, nelem_y + 1)\n",
    "\n",
    "Coord = np.zeros((nnode, 2))  # Coordinate of the nodes [x, y]\n",
    "\n",
    "for colnr in range(nelem_x + 1):\n",
    "    Coord[(colnr) * (nelem_y + 1):(colnr + 1) * (nelem_y + 1), 0] = x[colnr]\n",
    "    Coord[(colnr) * (nelem_y + 1):(colnr + 1) * (nelem_y + 1), 1] = Y[:, colnr]\n",
    "\n",
    "Coord;"
   ]
  },
  {
   "cell_type": "code",
   "execution_count": 6,
   "metadata": {
    "collapsed": false
   },
   "outputs": [],
   "source": [
    "#----- Calculation of topology matrix NodeTopo -----------\n",
    "NodeTopo = np.zeros((nelem_y + 1, nelem_x + 1), dtype=np.int)\n",
    "\n",
    "for colnr in range(nelem_x + 1):\n",
    "    NodeTopo[:, colnr] = np.arange((colnr) * (nelem_y + 1),\n",
    "                                   (colnr + 1) * (nelem_y + 1))\n",
    "\n",
    "NodeTopo;\n"
   ]
  },
  {
   "cell_type": "code",
   "execution_count": 7,
   "metadata": {
    "collapsed": false
   },
   "outputs": [],
   "source": [
    "#----- Calculation of topology matrix ElemNode -----------\n",
    "ElemNode = np.zeros((nelem, 5), dtype=np.int)  # Element connectivity\n",
    "\n",
    "elemnr = 0\n",
    "for colnr in range(nelem_x):\n",
    "    for rownr in range(nelem_y):\n",
    "        ElemNode[elemnr, 0] = elemnr\n",
    "        ElemNode[elemnr, 4] = NodeTopo[rownr + 1, colnr]  # Lower left node\n",
    "        ElemNode[elemnr, 3] = NodeTopo[rownr + 1,\n",
    "                                       colnr + 1]  # Lower right node\n",
    "        ElemNode[elemnr, 2] = NodeTopo[rownr, colnr + 1]  # Upper right node\n",
    "        ElemNode[elemnr, 1] = NodeTopo[rownr, colnr]  # upper left node\n",
    "        elemnr += 1\n",
    "\n",
    "#---------------------------------------------------------\n",
    "ElemX = np.zeros((nelem, nnode_elem))  # Element x nodal coordinates\n",
    "ElemY = np.zeros((nelem, nnode_elem))  # Element y nodal coordinates\n",
    "\n",
    "for i in range(nelem):\n",
    "    eNodes = ElemNode[i, 1:]  # Element nodes\n",
    "    eCoord = Coord[eNodes, :]\n",
    "    ElemX[i, :] = eCoord[:, 0]\n",
    "    ElemY[i, :] = eCoord[:, 1]"
   ]
  },
  {
   "cell_type": "code",
   "execution_count": 8,
   "metadata": {
    "collapsed": false
   },
   "outputs": [],
   "source": [
    "#----- Generate global dof numbers -----------------\n",
    "globDof = np.zeros((nnode, 2), dtype=np.int)  # nDof/node, Dof number\n",
    "\n",
    "Top = ElemNode[:, 1:]\n",
    "\n",
    "for j in range(nelem):\n",
    "    globNodes = ElemNode[j, 1:]  # Global node numbers of element nodes\n",
    "    # loop over element nodes creates the first column\n",
    "    for k in range(nnode_elem):\n",
    "        nNode = ElemNode[j, k + 1]\n",
    "        # if the already existing ndof of the present node is less than\n",
    "        # the present elements ndof then replace the ndof for that node\n",
    "        if globDof[nNode, 0] < nNodeDof[k]:\n",
    "            globDof[nNode, 0] = nNodeDof[k]\n",
    "\n",
    "\n",
    "# counting the global dofs and inserting in globDof\n",
    "nDof = 0\n",
    "for j in range(nnode):\n",
    "    eDof = globDof[j, 0]\n",
    "    for k in range(eDof):\n",
    "        globDof[j, k + 1] = nDof\n",
    "        nDof += 1\n",
    "\n",
    "globDof;"
   ]
  },
  {
   "cell_type": "code",
   "execution_count": 9,
   "metadata": {
    "collapsed": false
   },
   "outputs": [],
   "source": [
    "# Assembly of global stiffness matrix K -------------\n",
    "#----- Gauss-points and weights ----------------------------\n",
    "gauss = gaussorder  # Gauss order\n",
    "# Points\n",
    "GP = [-1 / sqrt(3), 1 / sqrt(3)]\n",
    "# Weights\n",
    "W = [1, 1]\n",
    "\n",
    "#----- Conductivity matrix D  -----------\n",
    "D = np.array([[kx, kxy], [kxy, ky]])\n",
    "#----------------------------------------\n",
    "\n",
    "K = np.zeros((nDof, nDof))  # Initiation of global stiffness matrix K\n",
    "\n",
    "for i in range(nelem):\n",
    "    # - data for element i\n",
    "\n",
    "    eNodes = ElemNode[i, 1:]  # Element nodes\n",
    "    eCoord = Coord[eNodes, :]  # node coordinates\n",
    "    #print(np.matrix(eNodes))\n",
    "    #print(np.matrix(eCoord))\n",
    "\n",
    "    gDof = np.zeros(\n",
    "        nnode_elem, dtype=np.int)  # used to constuct scatter matrix\n",
    "    for j in range(nnode_elem):\n",
    "        # global dof for node j\n",
    "        gDofNode = globDof[eNodes[j], 1:nNodeDof[j] + 1]\n",
    "        #print(gDofNode)\n",
    "        gDof[j] = gDofNode\n",
    "        \n",
    "    #print(np.matrix(gDof))\n",
    "    # - Local stiffnessmatrix, Ke, is found\n",
    "    #----- Element stiffness matrix, Ke, by Gauss integration -----------\n",
    "    Ke = np.zeros((nnode_elem, nnode_elem))\n",
    "    X = eCoord[:, 0]\n",
    "    Y = eCoord[:, 1]\n",
    "    DetJ = np.zeros((gauss, gauss))  # For storing the determinants of J\n",
    "    for i in range(gauss):\n",
    "        for j in range(gauss):\n",
    "            eta = GP[i]\n",
    "            xi = GP[j]\n",
    "\n",
    "            # shape functions matrix\n",
    "            N = 0.25 * np.array([(1 - xi) * (1 - eta), (1 + xi) * (1 - eta),\n",
    "                                 (1 + xi) * (1 + eta), (1 - xi) * (1 + eta)])\n",
    "\n",
    "            # derivative (gradient) of the shape functions\n",
    "            GN = np.array([[-(1 - eta), 1 - eta, 1 + eta, -(1 + eta)],\n",
    "                           [-(1 - xi), -(1 + xi), 1 + xi, 1 - xi]]) * 0.25\n",
    "            #print(np.matrix(GN))\n",
    "            # Jacobian matrix\n",
    "            J = np.dot(GN, eCoord)\n",
    "            #print(np.matrix(J))\n",
    "\n",
    "            # Jacobian determinant\n",
    "            DetJ = np.linalg.det(J)\n",
    "            #print(np.matrix(DetJ))\n",
    "            # Inverse Jacobian matrix\n",
    "            invJ = np.linalg.inv(J)\n",
    "            #print(np.matrix(invJ))\n",
    "\n",
    "            B = np.dot(invJ, GN)\n",
    "            #print(np.matrix(B))\n",
    "\n",
    "            # Ke = Ke + B'*D*B*th*DetJ*Wi*Wj\n",
    "            const12 = np.dot(np.dot(B.T, D), B) * th * DetJ * W[i] * W[j]\n",
    "            #print(np.matrix(const12))\n",
    "            Ke = Ke + np.dot(np.dot(B.T, D), B) * th * DetJ * W[i] * W[j]\n",
    "            #print(np.matrix(Ke))\n",
    "    # \"inserting\" the global element stiffness matrix into\n",
    "    # the global system stiffness matrix\n",
    "    #print(np.matrix(Ke))\n",
    "    K[np.ix_(gDof, gDof)] = K[np.ix_(gDof, gDof)] + Ke\n",
    "    #print(np.matrix(K))"
   ]
  },
  {
   "cell_type": "code",
   "execution_count": 10,
   "metadata": {
    "collapsed": false,
    "scrolled": true
   },
   "outputs": [
    {
     "data": {
      "image/png": "[encoded data removed]",
      "text/plain": [
       "<matplotlib.figure.Figure at 0x7f770ec6a080>"
      ]
     },
     "metadata": {},
     "output_type": "display_data"
    }
   ],
   "source": [
    "# Visualize K\n",
    "mask0 = np.where(K == 0)\n",
    "K0 = np.copy(K)\n",
    "K0[mask0] = np.nan\n",
    "plt.matshow(K0, cmap='viridis');"
   ]
  },
  {
   "cell_type": "markdown",
   "metadata": {
    "collapsed": true
   },
   "source": [
    "## Case 1"
   ]
  },
  {
   "cell_type": "code",
   "execution_count": 11,
   "metadata": {
    "collapsed": false
   },
   "outputs": [],
   "source": [
    "# Compute nodal boundary flux vector --- natural B.C\n",
    "# Defined on edges\n",
    "fluxNodes = NodeTopo[:, -1]  # Nodes at the right edge of the beam\n",
    "nFluxNodes = len(fluxNodes)  # Number of nodes on the right edge of the beam\n",
    "\n",
    "#print(np.matrix(fluxNodes))\n",
    "\n",
    "#----- Defining load ----------------------------\n",
    "q = 2500  # Constant flux at right edge of the beam\n",
    "\n",
    "n_bc = np.zeros((4, nFluxNodes - 1))\n",
    "n_bc[0:] = fluxNodes[:-1]  # node 1\n",
    "n_bc[1:] = fluxNodes[1:]  # node 2\n",
    "n_bc[2:] = q * np.ones(nFluxNodes - 1)  # flux value at node 1\n",
    "n_bc[3:] = q * np.ones(nFluxNodes - 1)  # flux value at node 2\n",
    "\n",
    "#print(np.matrix(n_bc))\n",
    "\n",
    "nbe = nFluxNodes - 1  # Number of elements with flux load\n",
    "\n",
    "from math import sqrt\n",
    "x, y = Coord.T  # Nodal coordinates\n",
    "f = np.zeros(nDof)  # initialize nodal flux vector\n",
    "\n",
    "\n",
    "for i in range(nbe):\n",
    "    fq = np.zeros(2)  # initialize the nodal source vector\n",
    "    node1 = int(n_bc[0, i])  # first node\n",
    "    node2 = int(n_bc[1, i])  # second node\n",
    "    #print(np.matrix(node2))\n",
    "    n_bce = n_bc[2:, i]  # flux value at an edge\n",
    "    #print(np.matrix(n_bce))\n",
    "    x1 = x[node1]  # x coord of the first node\n",
    "    y1 = y[node1]  # y coord of the first node\n",
    "    x2 = x[node2]  # x coord of the first node\n",
    "    y2 = y[node2]  # y coord of the second node\n",
    "    #print(np.matrix(y2))\n",
    "\n",
    "    leng = sqrt((x2 - x1)**2 + (y2 - y1)**2)  # edge length\n",
    "    detJ = leng / 2  # 1D Jacobian\n",
    "    \n",
    "\n",
    "    for i in range(gauss):  # integrate in xi direction (1D integration)\n",
    "\n",
    "        xi = GP[i]\n",
    "        # 1D  shape functions in parent domain\n",
    "        N = 0.5 * np.array([1 - xi, 1 + xi])\n",
    "        \n",
    "\n",
    "        flux = np.dot(N, n_bce)\n",
    " \n",
    "        fq = fq + W[i] * N.T * flux * detJ * th  # nodal flux\n",
    "\n",
    "    fq = -fq  # define flux as negative integrals\n",
    "    #print(np.matrix(fq))\n",
    "\n",
    "    f[node1] += fq[0]\n",
    "    f[node2] += fq[1]\n",
    "\n",
    "f;\n"
   ]
  },
  {
   "cell_type": "code",
   "execution_count": 12,
   "metadata": {
    "collapsed": false
   },
   "outputs": [],
   "source": [
    "#----- Apply boundary conditions ----------------- Essential B.C.\n",
    "TempNodes = NodeTopo[:, 0]  # Nodes at the left edge of the beam\n",
    "#------------------------------------------------\n",
    "nTempNodes = len(TempNodes)  # Number of nodes with temp BC\n",
    "\n",
    "BC = np.zeros((nTempNodes, 2))  # initialize the nodal temperature vector\n",
    "\n",
    "T0 = 10  # Temperature at boundary\n",
    "BC[:nTempNodes, 0] = TempNodes\n",
    "BC[:nTempNodes, 1] = T0\n",
    "\n",
    "BC;"
   ]
  },
  {
   "cell_type": "code",
   "execution_count": 13,
   "metadata": {
    "collapsed": false
   },
   "outputs": [],
   "source": [
    "# ----- Assembling global \"Force\" vector ------------\n",
    "OrgDof = np.zeros(nDof)  # Original DoF number\n",
    "T = np.zeros(nDof)  # initialize nodal temperature vector\n",
    "rDof = nDof  # Reduced number of DOF\n",
    "rDof\n",
    "\n",
    "\n",
    "\n",
    "ind = BC[:, 0].astype(int)\n",
    "OrgDof[ind] = -1\n",
    "T[ind] = BC[:, 1]\n",
    "rDof = rDof - len(BC)\n",
    "rDof\n",
    "\n",
    "\n",
    "RedDof = np.zeros(rDof, dtype=np.int)\n",
    "counter1 = 0\n",
    "for j in range(nDof):\n",
    "    if OrgDof[j] == 0:\n",
    "        OrgDof[j] = counter1\n",
    "        RedDof[counter1] = j\n",
    "        counter1 += 1\n",
    "\n",
    "T;"
   ]
  },
  {
   "cell_type": "code",
   "execution_count": 14,
   "metadata": {
    "collapsed": false
   },
   "outputs": [],
   "source": [
    "# Partition matrices\n",
    "mask_E = np.array([(i in TempNodes) for i in range(len(T))])  # knownn temp Dof\n",
    "\n",
    "T_E = T[mask_E]\n",
    "\n",
    "f_F = f[~mask_E]\n",
    "\n",
    "K_EE = K[np.ix_(mask_E, mask_E)]\n",
    "\n",
    "#print(K_EE) \n",
    "\n",
    "K_FF = K[np.ix_(~mask_E, ~mask_E)]\n",
    "K_EF = K[np.ix_(mask_E, ~mask_E)]\n",
    "#print(K_EF)"
   ]
  },
  {
   "cell_type": "code",
   "execution_count": 15,
   "metadata": {
    "collapsed": false
   },
   "outputs": [],
   "source": [
    "# solve for d_F\n",
    "\n",
    "rhs = f_F - np.dot(K_EF.T, T_E)\n",
    "\n",
    "T_F = np.linalg.solve(K_FF, rhs)\n",
    "T_F;\n"
   ]
  },
  {
   "cell_type": "code",
   "execution_count": 16,
   "metadata": {
    "collapsed": false,
    "scrolled": true
   },
   "outputs": [
    {
     "name": "stdout",
     "output_type": "stream",
     "text": [
      "[ 10.  10.  10.  10.  10.  10.   8.   8.   8.   8.   8.   8.   6.   6.   6.\n",
      "   6.   6.   6.   4.   4.   4.   4.   4.   4.   2.   2.   2.   2.   2.   2.\n",
      "   0.   0.   0.   0.   0.   0.  -2.  -2.  -2.  -2.  -2.  -2.  -4.  -4.  -4.\n",
      "  -4.  -4.  -4.  -6.  -6.  -6.  -6.  -6.  -6.  -8.  -8.  -8.  -8.  -8.  -8.\n",
      " -10. -10. -10. -10. -10. -10.]\n"
     ]
    }
   ],
   "source": [
    "# reconstruct the global displacement d\n",
    "T[mask_E] = T_E\n",
    "T[~mask_E] = T_F\n",
    "T;\n",
    "print(T)"
   ]
  },
  {
   "cell_type": "code",
   "execution_count": 17,
   "metadata": {
    "collapsed": false
   },
   "outputs": [
    {
     "name": "stdout",
     "output_type": "stream",
     "text": [
      "[  50.  100.  100.  100.  100.   50.    0.    0.    0.    0.    0.    0.\n",
      "    0.    0.    0.    0.    0.    0.    0.    0.    0.    0.    0.    0.\n",
      "    0.    0.    0.    0.    0.    0.    0.    0.    0.    0.    0.    0.\n",
      "    0.    0.    0.    0.    0.    0.    0.    0.    0.    0.    0.    0.\n",
      "    0.    0.    0.    0.    0.    0.    0.    0.    0.    0.    0.    0.\n",
      "  -50. -100. -100. -100. -100.  -50.]\n"
     ]
    }
   ],
   "source": [
    "# compute the reaction f_E\n",
    "f_E = np.dot(K_EE, T_E) + np.dot(K_EF, T_F)\n",
    "\n",
    "# reconstruct the global reactions f\n",
    "f[mask_E] = f_E\n",
    "f[~mask_E] = f_F\n",
    "f;\n",
    "print(f)"
   ]
  },
  {
   "cell_type": "code",
   "execution_count": 18,
   "metadata": {
    "collapsed": false
   },
   "outputs": [
    {
     "data": {
      "image/png": "[encoded data removed]",
      "text/plain": [
       "<matplotlib.figure.Figure at 0x7f770eb97d68>"
      ]
     },
     "metadata": {},
     "output_type": "display_data"
    },
    {
     "data": {
      "image/png": "[encoded data removed]",
      "text/plain": [
       "<matplotlib.figure.Figure at 0x7f770eb97da0>"
      ]
     },
     "metadata": {},
     "output_type": "display_data"
    },
    {
     "data": {
      "image/png": "[encoded data removed]",
      "text/plain": [
       "<matplotlib.figure.Figure at 0x7f770e42c400>"
      ]
     },
     "metadata": {},
     "output_type": "display_data"
    }
   ],
   "source": [
    "# Display matrices\n",
    "mask0 = np.where(K_EE == 0)\n",
    "K_EE0 = np.copy(K_EE)\n",
    "K_EE0[mask0] = np.nan\n",
    "plt.matshow(K_EE0, cmap='viridis')\n",
    "plt.title('K_EE')\n",
    "\n",
    "mask0 = np.where(K_EF == 0)\n",
    "K_EF0 = np.copy(K_EF)\n",
    "K_EF0[mask0] = np.nan\n",
    "plt.matshow(K_EF0, cmap='viridis')\n",
    "plt.title('K_EF')\n",
    "\n",
    "mask0 = np.where(K_FF == 0)\n",
    "K_FF0 = np.copy(K_FF)\n",
    "K_FF0[mask0] = np.nan\n",
    "plt.matshow(K_FF0, cmap='viridis')\n",
    "plt.title('K_FF');"
   ]
  },
  {
   "cell_type": "code",
   "execution_count": 19,
   "metadata": {
    "collapsed": true
   },
   "outputs": [],
   "source": [
    "# Node coordinates and values\n",
    "x, y = Coord.T\n",
    "z = T\n",
    "z;"
   ]
  },
  {
   "cell_type": "code",
   "execution_count": 20,
   "metadata": {
    "collapsed": false
   },
   "outputs": [
    {
     "name": "stdout",
     "output_type": "stream",
     "text": [
      "[ 0.   0.2  0.4  0.6  0.8  1.   1.2  1.4  1.6  1.8  2. ]\n",
      "[ 10.   8.   6.   4.   2.   0.  -2.  -4.  -6.  -8. -10.]\n",
      "[ 10.   8.   6.   4.   2.   0.  -2.  -4.  -6.  -8. -10.]\n"
     ]
    },
    {
     "data": {
      "image/png": "[encoded data removed]",
      "text/plain": [
       "<matplotlib.figure.Figure at 0x7f770e2ea208>"
      ]
     },
     "metadata": {},
     "output_type": "display_data"
    }
   ],
   "source": [
    "nodes = NodeTopo[-1, :]  # Find solution at top edge\n",
    "# Analytical solution for beam with constant height\n",
    "z_an = -x[nodes] * q / kx + T0\n",
    "# Plot\n",
    "plt.plot(x[nodes], z[nodes], label='FE')  # FE results\n",
    "plt.plot(x[nodes], z_an, label='Analytical')  # Analytical results\n",
    "plt.legend()\n",
    "z[NodeTopo[-1, :]], z_an"
   ]
  },
  {
   "cell_type": "code",
   "execution_count": 21,
   "metadata": {
    "collapsed": false
   },
   "outputs": [],
   "source": [
    "from vtk_io import write as vtkw\n",
    "\n",
    "points = np.insert(Coord, 2, 0, axis=1)\n",
    "\n",
    "cells = {'quad': ElemNode[:, 1:]}\n",
    "\n",
    "point_data = {'disp': T}\n",
    "\n",
    "vtkw(\n",
    "    'disp.vtk',\n",
    "    points,\n",
    "    cells,\n",
    "    point_data=point_data,\n",
    "    # Optionally provide extra data on points, cells, etc.\n",
    "    # cell_data=cell_data,\n",
    "    # field_data=field_data\n",
    "    # write_binary=False,\n",
    ")"
   ]
  },
  {
   "cell_type": "markdown",
   "metadata": {
    "collapsed": true
   },
   "source": [
    "## Case 2"
   ]
  },
  {
   "cell_type": "code",
   "execution_count": 22,
   "metadata": {
    "collapsed": true
   },
   "outputs": [],
   "source": [
    "# Compute nodal boundary flux vector --- natural B.C\n",
    "# Defined on edges\n",
    "fluxNodes = NodeTopo[-1, :]  # Nodes at the top edge of the beam\n",
    "nFluxNodes = len(fluxNodes)  # Number of nodes on the right edge of the beam\n",
    "\n",
    "#----- Defining load ----------------------------\n",
    "q = 2500  # Constant flux at right edge of the beam\n",
    "\n",
    "n_bc = np.zeros((4, nFluxNodes - 1))\n",
    "n_bc[0:] = fluxNodes[:-1]  # node 1\n",
    "n_bc[1:] = fluxNodes[1:]  # node 2\n",
    "n_bc[2:] = q * np.ones(nFluxNodes - 1)  # flux value at node 1\n",
    "n_bc[3:] = q * np.ones(nFluxNodes - 1)  # flux value at node 2\n",
    "\n",
    "nbe = nFluxNodes - 1  # Number of elements with flux load\n",
    "\n",
    "from math import sqrt\n",
    "x, y = Coord.T  # Nodal coordinates\n",
    "f = np.zeros(nDof)  # initialize nodal flux vector\n",
    "\n",
    "for i in range(nbe):\n",
    "    fq = np.zeros(2)  # initialize the nodal source vector\n",
    "    node1 = int(n_bc[0, i])  # first node\n",
    "    node2 = int(n_bc[1, i])  # second node\n",
    "    n_bce = n_bc[2:, i]  # flux value at an edge\n",
    "\n",
    "    x1 = x[node1]  # x coord of the first node\n",
    "    y1 = y[node1]  # y coord of the first node\n",
    "    x2 = x[node2]  # x coord of the first node\n",
    "    y2 = y[node2]  # y coord of the second node\n",
    "\n",
    "    leng = sqrt((x2 - x1)**2 + (y2 - y1)**2)  # edge length\n",
    "    detJ = leng / 2  # 1D Jacobian\n",
    "\n",
    "    for i in range(gauss):  # integrate in xi direction (1D integration)\n",
    "\n",
    "        xi = GP[i]\n",
    "        # 1D  shape functions in parent domain\n",
    "        N = 0.5 * np.array([1 - xi, 1 + xi])\n",
    "\n",
    "        flux = np.dot(N, n_bce)\n",
    "        fq = fq + W[i] * N.T * flux * detJ * th  # nodal flux\n",
    "\n",
    "    fq = -fq  # define flux as negative integrals\n",
    "\n",
    "    f[node1] += fq[0]\n",
    "    f[node2] += fq[1]\n",
    "\n",
    "f;"
   ]
  },
  {
   "cell_type": "code",
   "execution_count": 23,
   "metadata": {
    "collapsed": false
   },
   "outputs": [],
   "source": [
    "#----- Apply boundary conditions ----------------- Essential B.C.\n",
    "TempNodes = NodeTopo[0, :]  # Nodes at the bottom edge of the beam\n",
    "\n",
    "#------------------------------------------------\n",
    "nTempNodes = len(TempNodes)  # Number of nodes with temp BC\n",
    "\n",
    "BC = np.zeros((nTempNodes, 2))  # initialize the nodal temperature vector\n",
    "\n",
    "T0 = 10  # Temperature at boundary\n",
    "BC[:nTempNodes, 0] = TempNodes\n",
    "BC[:nTempNodes, 1] = T0\n",
    "\n",
    "BC;"
   ]
  },
  {
   "cell_type": "code",
   "execution_count": 24,
   "metadata": {
    "collapsed": true
   },
   "outputs": [],
   "source": [
    "# ----- Assembling global \"Force\" vector ------------\n",
    "OrgDof = np.zeros(nDof)  # Original DoF number\n",
    "T = np.zeros(nDof)  # initialize nodal temperature vector\n",
    "rDof = nDof  # Reduced number of DOF\n",
    "rDof\n",
    "\n",
    "ind = BC[:, 0].astype(int)\n",
    "OrgDof[ind] = -1\n",
    "T[ind] = BC[:, 1]\n",
    "rDof = rDof - len(BC)\n",
    "rDof\n",
    "\n",
    "RedDof = np.zeros(rDof, dtype=np.int)\n",
    "counter1 = 0\n",
    "for j in range(nDof):\n",
    "    if OrgDof[j] == 0:\n",
    "        OrgDof[j] = counter1\n",
    "        RedDof[counter1] = j\n",
    "        counter1 += 1\n",
    "\n",
    "T;"
   ]
  },
  {
   "cell_type": "code",
   "execution_count": 25,
   "metadata": {
    "collapsed": true
   },
   "outputs": [],
   "source": [
    "# Partition matrices\n",
    "mask_E = np.array([(i in TempNodes) for i in range(len(T))])  # knownn temp Dof \n",
    "T_E = T[mask_E]\n",
    "f_F = f[~mask_E]\n",
    "K_EE = K[np.ix_(mask_E, mask_E)]\n",
    "K_FF = K[np.ix_(~mask_E, ~mask_E)]\n",
    "K_EF = K[np.ix_(mask_E, ~mask_E)]"
   ]
  },
  {
   "cell_type": "code",
   "execution_count": 26,
   "metadata": {
    "collapsed": true
   },
   "outputs": [],
   "source": [
    "# solve for d_F\n",
    "rhs = f_F - np.dot(K_EF.T, T_E)\n",
    "T_F = np.linalg.solve(K_FF,rhs)\n",
    "T_F;"
   ]
  },
  {
   "cell_type": "code",
   "execution_count": 27,
   "metadata": {
    "collapsed": false,
    "scrolled": true
   },
   "outputs": [
    {
     "name": "stdout",
     "output_type": "stream",
     "text": [
      "[ 10.   8.   6.   4.   2.  -0.  10.   8.   6.   4.   2.  -0.  10.   8.   6.\n",
      "   4.   2.  -0.  10.   8.   6.   4.   2.  -0.  10.   8.   6.   4.   2.  -0.\n",
      "  10.   8.   6.   4.   2.  -0.  10.   8.   6.   4.   2.  -0.  10.   8.   6.\n",
      "   4.   2.  -0.  10.   8.   6.   4.   2.  -0.  10.   8.   6.   4.   2.  -0.\n",
      "  10.   8.   6.   4.   2.  -0.]\n"
     ]
    }
   ],
   "source": [
    "# reconstruct the global displacement d\n",
    "T[mask_E] = T_E\n",
    "T[~mask_E] = T_F\n",
    "T;\n",
    "print(T)"
   ]
  },
  {
   "cell_type": "code",
   "execution_count": 28,
   "metadata": {
    "collapsed": false
   },
   "outputs": [
    {
     "name": "stdout",
     "output_type": "stream",
     "text": [
      "[  50.    0.    0.    0.    0.  -50.  100.    0.    0.    0.    0. -100.\n",
      "  100.    0.    0.    0.    0. -100.  100.    0.    0.    0.    0. -100.\n",
      "  100.    0.    0.    0.    0. -100.  100.    0.    0.    0.    0. -100.\n",
      "  100.    0.    0.    0.    0. -100.  100.    0.    0.    0.    0. -100.\n",
      "  100.    0.    0.    0.    0. -100.  100.    0.    0.    0.    0. -100.\n",
      "   50.    0.    0.    0.    0.  -50.]\n"
     ]
    }
   ],
   "source": [
    "# compute the reaction f_E\n",
    "f_E = np.dot(K_EE, T_E) + np.dot(K_EF, T_F)\n",
    "# reconstruct the global reactions f\n",
    "f[mask_E] = f_E\n",
    "f[~mask_E] = f_F\n",
    "f;\n",
    "print(f)"
   ]
  },
  {
   "cell_type": "code",
   "execution_count": 29,
   "metadata": {
    "collapsed": false
   },
   "outputs": [
    {
     "data": {
      "image/png": "[encoded data removed]",
      "text/plain": [
       "<matplotlib.figure.Figure at 0x7f770e296c88>"
      ]
     },
     "metadata": {},
     "output_type": "display_data"
    },
    {
     "data": {
      "image/png": "[encoded data removed]",
      "text/plain": [
       "<matplotlib.figure.Figure at 0x7f770eb972e8>"
      ]
     },
     "metadata": {},
     "output_type": "display_data"
    },
    {
     "data": {
      "image/png": "[encoded data removed]",
      "text/plain": [
       "<matplotlib.figure.Figure at 0x7f770e238dd8>"
      ]
     },
     "metadata": {},
     "output_type": "display_data"
    }
   ],
   "source": [
    "# Display matrices\n",
    "mask0 = np.where(K_EE==0)\n",
    "K_EE0 = np.copy(K_EE)\n",
    "K_EE0[mask0] = np.nan\n",
    "plt.matshow(K_EE0, cmap='viridis')\n",
    "plt.title('K_EE')\n",
    "\n",
    "mask0 = np.where(K_EF==0)\n",
    "K_EF0 = np.copy(K_EF)\n",
    "K_EF0[mask0] = np.nan\n",
    "plt.matshow(K_EF0, cmap='viridis')\n",
    "plt.title('K_EF')\n",
    "\n",
    "mask0 = np.where(K_FF==0)\n",
    "K_FF0 = np.copy(K_FF)\n",
    "K_FF0[mask0] = np.nan\n",
    "plt.matshow(K_FF0, cmap='viridis')\n",
    "plt.title('K_FF');"
   ]
  },
  {
   "cell_type": "code",
   "execution_count": 30,
   "metadata": {
    "collapsed": true
   },
   "outputs": [],
   "source": [
    "# Node coordinates and values\n",
    "x, y = Coord.T\n",
    "z = T\n",
    "z;"
   ]
  },
  {
   "cell_type": "code",
   "execution_count": 31,
   "metadata": {
    "collapsed": false,
    "scrolled": true
   },
   "outputs": [
    {
     "name": "stdout",
     "output_type": "stream",
     "text": [
      "[-0.5 -0.3 -0.1  0.1  0.3  0.5]\n",
      "[ 10.   8.   6.   4.   2.   0.]\n",
      "[ 10.   8.   6.   4.   2.  -0.]\n"
     ]
    },
    {
     "data": {
      "image/png": "[encoded data removed]",
      "text/plain": [
       "<matplotlib.figure.Figure at 0x7f770e154198>"
      ]
     },
     "metadata": {},
     "output_type": "display_data"
    }
   ],
   "source": [
    "nodes = NodeTopo[:, -1]  # Find solution at right edge\n",
    "# Analytical solution for beam with constant height\n",
    "z_an = -(y[nodes] + 0.5) * q / ky + T0  # Y is shifted by 0.5\n",
    "# Plot\n",
    "plt.plot(y[nodes], z[NodeTopo[:, -1]], label='FE')  # FE results\n",
    "plt.plot(y[nodes], z_an, label='Analytical')  # Analytical results\n",
    "plt.legend()\n",
    "z[nodes], z_an"
   ]
  },
  {
   "cell_type": "code",
   "execution_count": 32,
   "metadata": {
    "collapsed": false
   },
   "outputs": [],
   "source": [
    "from vtk_io import write as vtkw\n",
    "\n",
    "points = np.insert(Coord, 2, 0, axis=1)\n",
    "\n",
    "cells = {'quad': ElemNode[:, 1:]}\n",
    "\n",
    "point_data = {'disp': T}\n",
    "\n",
    "vtkw(\n",
    "    'disp2.vtk',\n",
    "    points,\n",
    "    cells,\n",
    "    point_data=point_data,\n",
    "    # Optionally provide extra data on points, cells, etc.\n",
    "    # cell_data=cell_data,\n",
    "    # field_data=field_data\n",
    "    # write_binary=False,\n",
    ")"
   ]
  },
  {
   "cell_type": "markdown",
   "metadata": {
    "collapsed": true
   },
   "source": [
    "## Case 3"
   ]
  },
  {
   "cell_type": "code",
   "execution_count": 33,
   "metadata": {
    "collapsed": true
   },
   "outputs": [],
   "source": [
    "#----- Defining Geometry -----------------\n",
    "# h = a * x**2 + b * x + h1:    Beam height as a function of x\n",
    "a = 0.25  # constant in the polynomial describing the beam height\n",
    "h1 = 1.0  # [m] Height at beam left edge\n",
    "h2 = h1 * 1.3  # [m] Height at beam right edge\n",
    "L = 3.0 * h1  # [m] Beam length\n",
    "\n",
    "# calculate b constant in the polynomial describing the beam height\n",
    "b = -a * L + (h2 - h1) / L"
   ]
  },
  {
   "cell_type": "code",
   "execution_count": 34,
   "metadata": {
    "collapsed": true
   },
   "outputs": [],
   "source": [
    "#----- Meshing Geometry -----------------\n",
    "nelem_y = 8  # Number of elements in y-direction\n",
    "nelem_x = 15  # Number of elements in the x-direction\n",
    "\n",
    "nnode_elem = 4  # number of nodes in each element\n",
    "nNodeDof = [1, 1, 1, 1]  # number of DoF per node (1 = Temperature only)\n",
    "neDof = sum(nNodeDof)  # total number of DoF per element\n",
    "\n",
    "# Calculatations\n",
    "nelem = nelem_x * nelem_y  # Total number of elements\n",
    "nnode = (nelem_x + 1) * (nelem_y + 1)  # Total number of nodes"
   ]
  },
  {
   "cell_type": "code",
   "execution_count": 35,
   "metadata": {
    "collapsed": false
   },
   "outputs": [],
   "source": [
    "#----- Calculation of Nodal coordinate matrix -> Coord ---------\n",
    "# h(x) = a * x**2 + b * x + h1  # Beam height as a function of x\n",
    "x = np.linspace(0, L, nelem_x + 1)\n",
    "\n",
    "h = a * x**2 + b * x + h1\n",
    "Y = np.zeros((nelem_y + 1, nelem_x + 1))\n",
    "\n",
    "for colnr in range(nelem_x + 1):\n",
    "    Y[:, colnr] = np.linspace(-h[colnr] / 2, h[colnr] / 2, nelem_y + 1)\n",
    "\n",
    "Coord = np.zeros((nnode, 2))  # Coordinate of the nodes [x, y]\n",
    "\n",
    "for colnr in range(nelem_x + 1):\n",
    "    Coord[(colnr) * (nelem_y + 1):(colnr + 1) * (nelem_y + 1), 0] = x[colnr]\n",
    "    Coord[(colnr) * (nelem_y + 1):(colnr + 1) * (nelem_y + 1), 1] = Y[:, colnr]\n",
    "\n",
    "Coord;"
   ]
  },
  {
   "cell_type": "code",
   "execution_count": 36,
   "metadata": {
    "collapsed": false
   },
   "outputs": [],
   "source": [
    "#----- Calculation of topology matrix NodeTopo -----------\n",
    "NodeTopo = np.zeros((nelem_y + 1, nelem_x + 1), dtype=np.int)\n",
    "\n",
    "for colnr in range(nelem_x + 1):\n",
    "    NodeTopo[:, colnr] = np.arange((colnr) * (nelem_y + 1),\n",
    "                                   (colnr + 1) * (nelem_y + 1))\n",
    "\n",
    "NodeTopo;"
   ]
  },
  {
   "cell_type": "code",
   "execution_count": 37,
   "metadata": {
    "collapsed": true
   },
   "outputs": [],
   "source": [
    "#----- Calculation of topology matrix ElemNode -----------\n",
    "ElemNode = np.zeros((nelem, 5), dtype=np.int)  # Element connectivity\n",
    "\n",
    "elemnr = 0\n",
    "for colnr in range(nelem_x):\n",
    "    for rownr in range(nelem_y):\n",
    "        ElemNode[elemnr, 0] = elemnr\n",
    "        ElemNode[elemnr, 4] = NodeTopo[rownr + 1, colnr]  # Lower left node\n",
    "        ElemNode[elemnr, 3] = NodeTopo[rownr + 1,\n",
    "                                       colnr + 1]  # Lower right node\n",
    "        ElemNode[elemnr, 2] = NodeTopo[rownr, colnr + 1]  # Upper right node\n",
    "        ElemNode[elemnr, 1] = NodeTopo[rownr, colnr]  # upper left node\n",
    "        elemnr += 1\n",
    "\n",
    "#---------------------------------------------------------\n",
    "ElemX = np.zeros((nelem, nnode_elem))  # Element x nodal coordinates\n",
    "ElemY = np.zeros((nelem, nnode_elem))  # Element y nodal coordinates\n",
    "\n",
    "for i in range(nelem):\n",
    "    eNodes = ElemNode[i, 1:]  # Element nodes\n",
    "    eCoord = Coord[eNodes, :]\n",
    "    ElemX[i, :] = eCoord[:, 0]\n",
    "    ElemY[i, :] = eCoord[:, 1]"
   ]
  },
  {
   "cell_type": "code",
   "execution_count": 38,
   "metadata": {
    "collapsed": false
   },
   "outputs": [],
   "source": [
    "#----- Generate global dof numbers -----------------\n",
    "globDof = np.zeros((nnode, 2), dtype=np.int)  # nDof/node, Dof number\n",
    "\n",
    "Top = ElemNode[:, 1:]\n",
    "for j in range(nelem):\n",
    "    globNodes = ElemNode[j, 1:]  # Global node numbers of element nodes\n",
    "    # loop over element nodes creates the first column\n",
    "    for k in range(nnode_elem):\n",
    "        nNode = ElemNode[j, k + 1]\n",
    "        # if the already existing ndof of the present node is less than\n",
    "        # the present elements ndof then replace the ndof for that node\n",
    "        if globDof[nNode, 0] < nNodeDof[k]:\n",
    "            globDof[nNode, 0] = nNodeDof[k]\n",
    "\n",
    "# counting the global dofs and inserting in globDof\n",
    "nDof = 0\n",
    "for j in range(nnode):\n",
    "    eDof = globDof[j, 0]\n",
    "    for k in range(eDof):\n",
    "        globDof[j, k + 1] = nDof\n",
    "        nDof += 1\n",
    "\n",
    "globDof;"
   ]
  },
  {
   "cell_type": "code",
   "execution_count": 39,
   "metadata": {
    "collapsed": true
   },
   "outputs": [],
   "source": [
    "# Assembly of global stiffness matrix K -------------\n",
    "#----- Gauss-points and weights ----------------------------\n",
    "gauss = gaussorder  # Gauss order\n",
    "# Points\n",
    "GP = [-1 / sqrt(3), 1 / sqrt(3)]\n",
    "# Weights\n",
    "W = [1, 1]\n",
    "\n",
    "#----- Conductivity matrix D  -----------\n",
    "D = np.array([[kx, kxy], [kxy, ky]])\n",
    "#----------------------------------------\n",
    "\n",
    "K = np.zeros((nDof, nDof))  # Initiation of global stiffness matrix K\n",
    "\n",
    "for i in range(nelem):\n",
    "    # - data for element i\n",
    "\n",
    "    eNodes = ElemNode[i, 1:]  # Element nodes\n",
    "    eCoord = Coord[eNodes, :]  # node coordinates\n",
    "\n",
    "    gDof = np.zeros(\n",
    "        nnode_elem, dtype=np.int)  # used to constuct scatter matrix\n",
    "    for j in range(nnode_elem):\n",
    "        # global dof for node j\n",
    "        gDofNode = globDof[eNodes[j], 1:nNodeDof[j] + 1]\n",
    "        gDof[j] = gDofNode\n",
    "\n",
    "    # - Local stiffnessmatrix, Ke, is found\n",
    "    #----- Element stiffness matrix, Ke, by Gauss integration -----------\n",
    "    Ke = np.zeros((nnode_elem, nnode_elem))\n",
    "    X = eCoord[:, 0]\n",
    "    Y = eCoord[:, 1]\n",
    "    DetJ = np.zeros((gauss, gauss))  # For storing the determinants of J\n",
    "    for i in range(gauss):\n",
    "        for j in range(gauss):\n",
    "            eta = GP[i]\n",
    "            xi = GP[j]\n",
    "\n",
    "            # shape functions matrix\n",
    "            N = 0.25 * np.array([(1 - xi) * (1 - eta), (1 + xi) * (1 - eta),\n",
    "                                 (1 + xi) * (1 + eta), (1 - xi) * (1 + eta)])\n",
    "\n",
    "            # derivative (gradient) of the shape functions\n",
    "            GN = np.array([[-(1 - eta), 1 - eta, 1 + eta, -(1 + eta)],\n",
    "                           [-(1 - xi), -(1 + xi), 1 + xi, 1 - xi]]) * 0.25\n",
    "\n",
    "            # Jacobian matrix\n",
    "            J = np.dot(GN, eCoord)\n",
    "\n",
    "            # Jacobian determinant\n",
    "            DetJ = np.linalg.det(J)\n",
    "\n",
    "            # Inverse Jacobian matrix\n",
    "            invJ = np.linalg.inv(J)\n",
    "\n",
    "            B = np.dot(invJ, GN)\n",
    "\n",
    "            # Ke = Ke + B'*D*B*th*DetJ*Wi*Wj\n",
    "            Ke = Ke + np.dot(np.dot(B.T, D), B) * th * DetJ * W[i] * W[j]\n",
    "\n",
    "    # \"inserting\" the global element stiffness matrix into\n",
    "    # the global system stiffness matrix\n",
    "    K[np.ix_(gDof, gDof)] = K[np.ix_(gDof, gDof)] + Ke"
   ]
  },
  {
   "cell_type": "code",
   "execution_count": 40,
   "metadata": {
    "collapsed": false,
    "scrolled": true
   },
   "outputs": [
    {
     "data": {
      "image/png": "[encoded data removed]",
      "text/plain": [
       "<matplotlib.figure.Figure at 0x7f770e1e32b0>"
      ]
     },
     "metadata": {},
     "output_type": "display_data"
    }
   ],
   "source": [
    "# Visualize K\n",
    "mask0 = np.where(K == 0)\n",
    "K0 = np.copy(K)\n",
    "K0[mask0] = np.nan\n",
    "plt.matshow(K0, cmap='viridis');"
   ]
  },
  {
   "cell_type": "code",
   "execution_count": 41,
   "metadata": {
    "collapsed": false
   },
   "outputs": [],
   "source": [
    "# Compute nodal boundary flux vector --- natural B.C\n",
    "# Defined on edges\n",
    "fluxNodes = NodeTopo[0, :]  # Nodes at the bottom edge of the beam\n",
    "nFluxNodes = len(fluxNodes)  # Number of nodes on the right edge of the beam\n",
    "\n",
    "#----- Defining load ----------------------------\n",
    "q = - 5000  # Constant flux at bottom edge of beam\n",
    "\n",
    "n_bc = np.zeros((4, nFluxNodes - 1))\n",
    "n_bc[0:] = fluxNodes[:-1]  # node 1\n",
    "n_bc[1:] = fluxNodes[1:]  # node 2\n",
    "n_bc[2:] = q * np.ones(nFluxNodes - 1)  # flux value at node 1\n",
    "n_bc[3:] = q * np.ones(nFluxNodes - 1)  # flux value at node 2\n",
    "\n",
    "nbe = nFluxNodes - 1  # Number of elements with flux load\n",
    "\n",
    "from math import sqrt\n",
    "x, y = Coord.T  # Nodal coordinates\n",
    "f = np.zeros(nDof)  # initialize nodal flux vector\n",
    "\n",
    "for i in range(nbe):\n",
    "    fq = np.zeros(2)  # initialize the nodal source vector\n",
    "    node1 = int(n_bc[0, i])  # first node\n",
    "    node2 = int(n_bc[1, i])  # second node\n",
    "    n_bce = n_bc[2:, i]  # flux value at an edge\n",
    "\n",
    "    x1 = x[node1]  # x coord of the first node\n",
    "    y1 = y[node1]  # y coord of the first node\n",
    "    x2 = x[node2]  # x coord of the first node\n",
    "    y2 = y[node2]  # y coord of the second node\n",
    "\n",
    "    leng = sqrt((x2 - x1)**2 + (y2 - y1)**2)  # edge length\n",
    "    detJ = leng / 2  # 1D Jacobian\n",
    "    \n",
    "\n",
    "    for i in range(gauss):  # integrate in xi direction (1D integration)\n",
    "\n",
    "        xi = GP[i]\n",
    "        # 1D  shape functions in parent domain\n",
    "        N = 0.5 * np.array([1 - xi, 1 + xi])\n",
    "\n",
    "        flux = np.dot(N, n_bce)\n",
    "        \n",
    "        fq = fq + W[i] * N.T * flux * detJ * th  # nodal flux\n",
    "        \n",
    "    fq = -fq  # define flux as negative integrals\n",
    "    \n",
    "    \n",
    "    f[node1] += fq[0]\n",
    "    f[node2] += fq[1]\n",
    "\n",
    "f;\n"
   ]
  },
  {
   "cell_type": "code",
   "execution_count": 42,
   "metadata": {
    "collapsed": true
   },
   "outputs": [],
   "source": [
    "#----- Apply boundary conditions ----------------- Essential B.C.\n",
    "TempNodes = NodeTopo[:, 0]  # Nodes at the bottom edge of the beam\n",
    "#------------------------------------------------\n",
    "nTempNodes = len(TempNodes)  # Number of nodes with temp BC\n",
    "\n",
    "BC = np.zeros((nTempNodes, 2))  # initialize the nodal temperature vector\n",
    "\n",
    "T0 = -20  # Temperature at boundary\n",
    "BC[:nTempNodes, 0] = TempNodes\n",
    "BC[:nTempNodes, 1] = T0\n",
    "\n",
    "BC;"
   ]
  },
  {
   "cell_type": "code",
   "execution_count": 43,
   "metadata": {
    "collapsed": true
   },
   "outputs": [],
   "source": [
    "# ----- Assembling global \"Force\" vector ------------\n",
    "OrgDof = np.zeros(nDof)  # Original DoF number\n",
    "T = np.zeros(nDof)  # initialize nodal temperature vector\n",
    "rDof = nDof  # Reduced number of DOF\n",
    "rDof\n",
    "\n",
    "ind = BC[:, 0].astype(int)\n",
    "OrgDof[ind] = -1\n",
    "T[ind] = BC[:, 1]\n",
    "rDof = rDof - len(BC)\n",
    "rDof\n",
    "\n",
    "RedDof = np.zeros(rDof, dtype=np.int)\n",
    "counter1 = 0\n",
    "for j in range(nDof):\n",
    "    if OrgDof[j] == 0:\n",
    "        OrgDof[j] = counter1\n",
    "        RedDof[counter1] = j\n",
    "        counter1 += 1\n",
    "\n",
    "T;"
   ]
  },
  {
   "cell_type": "code",
   "execution_count": 44,
   "metadata": {
    "collapsed": true
   },
   "outputs": [],
   "source": [
    "# Partition matrices\n",
    "mask_E = np.array([(i in TempNodes) for i in range(len(T))])  # knownn temp Dof \n",
    "T_E = T[mask_E]\n",
    "f_F = f[~mask_E]\n",
    "K_EE = K[np.ix_(mask_E, mask_E)]\n",
    "K_FF = K[np.ix_(~mask_E, ~mask_E)]\n",
    "K_EF = K[np.ix_(mask_E, ~mask_E)]"
   ]
  },
  {
   "cell_type": "code",
   "execution_count": 45,
   "metadata": {
    "collapsed": false
   },
   "outputs": [],
   "source": [
    "# solve for d_F\n",
    "rhs = f_F - np.dot(K_EF.T, T_E)\n",
    "\n",
    "T_F = np.linalg.solve(K_FF,rhs)\n",
    "T_F;"
   ]
  },
  {
   "cell_type": "code",
   "execution_count": 46,
   "metadata": {
    "collapsed": false,
    "scrolled": false
   },
   "outputs": [
    {
     "name": "stdout",
     "output_type": "stream",
     "text": [
      "[ -20.      -20.      -20.      -20.      -20.      -20.      -20.      -20.\n",
      "  -20.      -20.      -20.      -20.      -20.      -20.      -20.      -20.\n",
      "  -20.      -20.      -20.      -20.      -20.      -14.0022  -13.982\n",
      "  -13.9911  -14.0166  -14.0529  -14.0974  -14.1489  -14.2068  -14.2712\n",
      "  -14.3424  -14.4213  -14.5093  -14.6082  -14.7206  -14.8502  -15.0022\n",
      "  -15.1845  -15.4094  -15.698   -16.091   -16.6796   -7.8781   -7.9128\n",
      "   -7.964    -8.0304   -8.1098   -8.2006   -8.3019   -8.4134   -8.5355\n",
      "   -8.6689   -8.815    -8.9759   -9.1543   -9.3538   -9.5793   -9.8373\n",
      "  -10.1364  -10.4885  -10.9092  -11.4178  -12.0287   -1.7336   -1.819\n",
      "   -1.9186   -2.0313   -2.1562   -2.2928   -2.4408   -2.6004   -2.7723\n",
      "   -2.9574   -3.1573   -3.3742   -3.6108   -3.8706   -4.1581   -4.4786\n",
      "   -4.839    -5.247    -5.7118   -6.2434   -6.8541    4.4233    4.2886\n",
      "    4.1421    3.9845    3.8161    3.637     3.4471    3.246     3.0331\n",
      "    2.8073    2.567     2.3105    2.0353    1.7386    1.4168    1.0661\n",
      "    0.6817    0.2584   -0.2095   -0.7283   -1.3043   10.5889   10.4084\n",
      "   10.2183   10.0191    9.8111    9.5942    9.3684    9.1331    8.8878\n",
      "    8.6316    8.3631    8.0809    7.7832    7.4677    7.1319    6.7729\n",
      "    6.3876    5.9723    5.5233    5.0366    4.5079   16.7626   16.5393\n",
      "   16.309    16.0721   15.8288   15.5793   15.3234   15.0608   14.7909\n",
      "   14.5131   14.2264   13.9296   13.6214   13.3002   12.9642   12.6113\n",
      "   12.2392   11.8456   11.4279   10.9831   10.5086   22.941    22.6774\n",
      "   22.4099   22.1387   21.8643   21.5867   21.3059   21.0217   20.7337\n",
      "   20.4413   20.144    19.8408   19.5308   19.2128   18.8856   18.5477\n",
      "   18.1976   17.8334   17.4535   17.0557   16.6382   29.116    28.814\n",
      "   28.5115   28.2089   27.9066   27.6046   27.303    27.0016   26.7003\n",
      "   26.3986   26.096    25.7921   25.4861   25.1771   24.8644   24.5469\n",
      "   24.2234   23.8929   23.5539   23.2051   22.8451   35.2734   34.9342\n",
      "   34.5984   34.2664   33.9385   33.6148   33.2953   32.9799   32.6686\n",
      "   32.361    32.0569   31.7559   31.4574   31.1609   30.8658   30.5715\n",
      "   30.2771   29.9818   29.6848   29.3851   29.0817   41.3929   41.0172\n",
      "   40.6492   40.2891   39.9371   39.5934   39.2579   38.9305   38.6113\n",
      "   38.3      37.9963   37.7001   37.4111   37.1287   36.8527   36.5827\n",
      "   36.318    36.0582   35.8026   35.5508   35.302    47.4485   47.0367\n",
      "   46.637    46.2495   45.8743   45.5114   45.1609   44.8226   44.4964\n",
      "   44.1823   43.8801   43.5896   43.3106   43.0428   42.7861   42.5401\n",
      "   42.3046   42.0793   41.8638   41.6579   41.4611   53.4094   52.9616\n",
      "   52.5304   52.1157   51.7176   51.336    50.9707   50.6217   50.289\n",
      "   49.9722   49.6715   49.3865   49.1173   48.8636   48.6254   48.4025\n",
      "   48.1949   48.0024   47.8249   47.6623   47.5146   59.2418   58.7579\n",
      "   58.2952   57.8533   57.4322   57.0317   56.6515   56.2916   55.9518\n",
      "   55.632    55.3321   55.052    54.7916   54.5509   54.3299   54.1285\n",
      "   53.9469   53.785    53.643    53.5209   53.4189   64.9104   64.3904\n",
      "   63.8959   63.4266   62.9821   62.5622   62.1666   61.7951   61.4475\n",
      "   61.1237   60.8236   60.5472   60.2943   60.065    59.8595   59.6777\n",
      "   59.5198   59.386    59.2766   59.1918   59.132    70.3802   69.824\n",
      "   69.2976   68.8004   68.3321   67.8921   67.4803   67.0962   66.7398\n",
      "   66.4109   66.1092   65.8349   65.5879   65.3682   65.1761   65.0116\n",
      "   64.875    64.7666   64.6868   64.636    64.6148   75.6188   75.0262\n",
      "   74.4675   73.942    73.4491   72.9883   72.5593   72.1616   71.7951\n",
      "   71.4596   71.1549   70.881    70.638    70.4259   70.2449   70.0952\n",
      "   69.9773   69.8914   69.838    69.8178   69.8314   80.5971   79.9682\n",
      "   79.3769   78.8225   78.3043   77.8217   77.3744   76.9619   76.5839\n",
      "   76.2403   75.9308   75.6556   75.4145   75.2078   75.0356   74.8983\n",
      "   74.7962   74.7298   74.6997   74.7065   74.7511   85.2915   84.6261\n",
      "   84.0019   83.418    82.8737   82.3684   81.9017   81.473    81.0821\n",
      "   80.7287   80.4127   80.1341   79.8929   79.6893   79.5235   79.3958\n",
      "   79.3068   79.2568   79.2466   79.277    79.3487   89.6841   88.9821\n",
      "   88.3245   87.7106   87.1394   86.6104   86.123    85.6768   85.2713\n",
      "   84.9065   84.5821   84.2982   84.0547   83.8519   83.6899   83.5693\n",
      "   83.4903   83.4537   83.4601   83.5103   83.6052   93.7631   93.0245\n",
      "   92.3333   91.6887   91.0897   90.5359   90.0266   89.5614   89.1399\n",
      "   88.7619   88.4272   88.1358   87.8879   87.6834   87.5228   87.4064\n",
      "   87.3347   87.3082   87.3278   87.3941   87.5082   97.5234   96.748\n",
      "   96.0228   95.3468   94.7193   94.1395   93.607    93.1213   92.6821\n",
      "   92.2891   91.9422   91.6413   91.3866   91.1782   91.0163   90.9014\n",
      "   90.8339   90.8144   90.8437   90.9224   91.0517  100.9654  100.1532\n",
      "   99.3935   98.6855   98.0284   97.4216   96.8645   96.3569   95.8983\n",
      "   95.4885   95.1274   94.8149   94.5512   94.3363   94.1706   94.0544\n",
      "   93.9881   93.9724   94.0079   94.0953   94.2356  104.0948  103.2457\n",
      "  102.4511  101.7103  101.0227  100.3876   99.8047   99.2736   98.7939\n",
      "   98.3654   97.9881   97.6619   97.3868   97.1631   96.9909   96.8706\n",
      "   96.8026   96.7874   96.8256   96.9179   97.0651  106.9217  106.0355\n",
      "  105.2056  104.4313  103.7121  103.0476  102.4374  101.8811  101.3786\n",
      "  100.9296  100.534   100.1919   99.9032   99.6682   99.4869   99.3598\n",
      "   99.287    99.2691   99.3066   99.3999   99.5498  109.4597  108.5363\n",
      "  107.6704  106.8617  106.1099  105.4146  104.7756  104.1926  103.6655\n",
      "  103.194   102.7782  102.418   102.1135  101.8647  101.6718  101.535\n",
      "  101.4546  101.4308  101.464   101.5546  101.7031  111.725   110.7639\n",
      "  109.8615  109.0175  108.2319  107.5045  106.8351  106.2237  105.6701\n",
      "  105.1743  104.7362  104.3558  104.0331  103.7682  103.5611  103.412\n",
      "  103.321   103.2882  103.3138  103.3979  103.5407  113.7356  112.7365\n",
      "  111.7966  110.9163  110.0955  109.3344  108.633   107.9913  107.4093\n",
      "  106.8871  106.4247  106.022   105.679   105.3958  105.1722  105.0083\n",
      "  104.9039  104.8592  104.8738  104.9478  105.0809  115.5108  114.473\n",
      "  113.4948  112.5767  111.7191  110.9225  110.1871  109.5132  108.9008\n",
      "  108.3502  107.8614  107.4344  107.069   106.7653  106.5231  106.3421\n",
      "  106.222   106.1625  106.1633  106.2237  106.3432  117.0711  115.9937\n",
      "  114.9756  114.0179  113.1216  112.2873  111.5156  110.8072  110.1622\n",
      "  109.581   109.0638  108.6104  108.2209  107.8949  107.6322  107.4322\n",
      "  107.2944  107.2181  107.2024  107.2462  107.3484  118.4375  117.3191\n",
      "  116.2592  115.2596  114.3217  113.4468  112.6361  111.8904  111.2103\n",
      "  110.5962  110.0485  109.567   109.1516  108.802   108.5176  108.2975\n",
      "  108.1407  108.046   108.012   108.0368  108.1187  119.6327  118.471\n",
      "  117.3663  116.3211  115.3379  114.4188  113.5654  112.779   112.0607\n",
      "  111.4111  110.8307  110.3195  109.8771  109.5031  109.1965  108.9561\n",
      "  108.7801  108.6668  108.6137  108.6183  108.6775  120.6807  119.4723\n",
      "  118.3181  117.2224  116.1886  115.2199  114.3188  113.4874  112.7271\n",
      "  112.0391  111.4239  110.8815  110.4116  110.0133  109.6852  109.4256\n",
      "  109.2319  109.1013  109.0304  109.015   109.0506  121.6089  120.3481\n",
      "  119.1375  117.9835  116.8914  115.8658  114.9104  114.0282  113.2213\n",
      "  112.4912  111.8388  111.2642  110.7669  110.3455  109.9984  109.7226\n",
      "  109.515   109.3712  109.2862  109.2538  109.2672  122.4493  121.1271\n",
      "  119.8492  118.6253  117.4637  116.3709  115.3521  114.4115  113.552\n",
      "  112.7757  112.0836  111.4761  110.9523  110.5107  110.1487  109.8627\n",
      "  109.648   109.4988  109.4077  109.3657  109.362   123.2438  121.8442\n",
      "  120.4805  119.1693  117.9221  116.7479  115.6537  114.6449  113.7252\n",
      "  112.8975  112.1631  111.5223  110.9742  110.5168  110.1468  109.8595\n",
      "  109.6489  109.5072  109.4246  109.3884  109.3815]\n"
     ]
    }
   ],
   "source": [
    "# reconstruct the global displacement d\n",
    "T[mask_E] = T_E\n",
    "T[~mask_E] = T_F\n",
    "T;"
   ]
  },
  {
   "cell_type": "code",
   "execution_count": 47,
   "metadata": {
    "collapsed": false
   },
   "outputs": [
    {
     "name": "stdout",
     "output_type": "stream",
     "text": [
      "[ -40.6098 -174.831  -175.141  -174.6404 -173.679  -172.4031 -170.8787\n",
      " -169.1334 -167.1717 -164.9808 -162.5322 -159.7793 -156.6541 -153.0588\n",
      " -148.8517 -143.8209 -137.6316 -129.7095 -118.946  -102.8391  -30.1389\n",
      "   89.5811    0.        0.        0.        0.        0.        0.        0.\n",
      "    0.        0.        0.        0.        0.        0.        0.        0.\n",
      "    0.        0.        0.        0.        0.       89.065     0.        0.\n",
      "    0.        0.        0.        0.        0.        0.        0.        0.\n",
      "    0.        0.        0.        0.        0.        0.        0.        0.\n",
      "    0.        0.       88.5839    0.        0.        0.        0.        0.\n",
      "    0.        0.        0.        0.        0.        0.        0.        0.\n",
      "    0.        0.        0.        0.        0.        0.        0.\n",
      "   88.1386    0.        0.        0.        0.        0.        0.        0.\n",
      "    0.        0.        0.        0.        0.        0.        0.        0.\n",
      "    0.        0.        0.        0.        0.       87.7294    0.        0.\n",
      "    0.        0.        0.        0.        0.        0.        0.        0.\n",
      "    0.        0.        0.        0.        0.        0.        0.        0.\n",
      "    0.        0.       87.3569    0.        0.        0.        0.        0.\n",
      "    0.        0.        0.        0.        0.        0.        0.        0.\n",
      "    0.        0.        0.        0.        0.        0.        0.\n",
      "   87.0216    0.        0.        0.        0.        0.        0.        0.\n",
      "    0.        0.        0.        0.        0.        0.        0.        0.\n",
      "    0.        0.        0.        0.        0.       86.7239    0.        0.\n",
      "    0.        0.        0.        0.        0.        0.        0.        0.\n",
      "    0.        0.        0.        0.        0.        0.        0.        0.\n",
      "    0.        0.       86.4642    0.        0.        0.        0.        0.\n",
      "    0.        0.        0.        0.        0.        0.        0.        0.\n",
      "    0.        0.        0.        0.        0.        0.        0.\n",
      "   86.2428    0.        0.        0.        0.        0.        0.        0.\n",
      "    0.        0.        0.        0.        0.        0.        0.        0.\n",
      "    0.        0.        0.        0.        0.       86.0601    0.        0.\n",
      "    0.        0.        0.        0.        0.        0.        0.        0.\n",
      "    0.        0.        0.        0.        0.        0.        0.        0.\n",
      "    0.        0.       85.9163    0.        0.        0.        0.        0.\n",
      "    0.        0.        0.        0.        0.        0.        0.        0.\n",
      "    0.        0.        0.        0.        0.        0.        0.\n",
      "   85.8115    0.        0.        0.        0.        0.        0.        0.\n",
      "    0.        0.        0.        0.        0.        0.        0.        0.\n",
      "    0.        0.        0.        0.        0.       85.746     0.        0.\n",
      "    0.        0.        0.        0.        0.        0.        0.        0.\n",
      "    0.        0.        0.        0.        0.        0.        0.        0.\n",
      "    0.        0.       85.7198    0.        0.        0.        0.        0.\n",
      "    0.        0.        0.        0.        0.        0.        0.        0.\n",
      "    0.        0.        0.        0.        0.        0.        0.\n",
      "   85.7329    0.        0.        0.        0.        0.        0.        0.\n",
      "    0.        0.        0.        0.        0.        0.        0.        0.\n",
      "    0.        0.        0.        0.        0.       85.7853    0.        0.\n",
      "    0.        0.        0.        0.        0.        0.        0.        0.\n",
      "    0.        0.        0.        0.        0.        0.        0.        0.\n",
      "    0.        0.       85.877     0.        0.        0.        0.        0.\n",
      "    0.        0.        0.        0.        0.        0.        0.        0.\n",
      "    0.        0.        0.        0.        0.        0.        0.\n",
      "   86.0078    0.        0.        0.        0.        0.        0.        0.\n",
      "    0.        0.        0.        0.        0.        0.        0.        0.\n",
      "    0.        0.        0.        0.        0.       86.1776    0.        0.\n",
      "    0.        0.        0.        0.        0.        0.        0.        0.\n",
      "    0.        0.        0.        0.        0.        0.        0.        0.\n",
      "    0.        0.       86.3861    0.        0.        0.        0.        0.\n",
      "    0.        0.        0.        0.        0.        0.        0.        0.\n",
      "    0.        0.        0.        0.        0.        0.        0.\n",
      "   86.6331    0.        0.        0.        0.        0.        0.        0.\n",
      "    0.        0.        0.        0.        0.        0.        0.        0.\n",
      "    0.        0.        0.        0.        0.       86.9182    0.        0.\n",
      "    0.        0.        0.        0.        0.        0.        0.        0.\n",
      "    0.        0.        0.        0.        0.        0.        0.        0.\n",
      "    0.        0.       87.241     0.        0.        0.        0.        0.\n",
      "    0.        0.        0.        0.        0.        0.        0.        0.\n",
      "    0.        0.        0.        0.        0.        0.        0.\n",
      "   87.6011    0.        0.        0.        0.        0.        0.        0.\n",
      "    0.        0.        0.        0.        0.        0.        0.        0.\n",
      "    0.        0.        0.        0.        0.       87.9981    0.        0.\n",
      "    0.        0.        0.        0.        0.        0.        0.        0.\n",
      "    0.        0.        0.        0.        0.        0.        0.        0.\n",
      "    0.        0.       88.4315    0.        0.        0.        0.        0.\n",
      "    0.        0.        0.        0.        0.        0.        0.        0.\n",
      "    0.        0.        0.        0.        0.        0.        0.\n",
      "   88.9007    0.        0.        0.        0.        0.        0.        0.\n",
      "    0.        0.        0.        0.        0.        0.        0.        0.\n",
      "    0.        0.        0.        0.        0.       89.4052    0.        0.\n",
      "    0.        0.        0.        0.        0.        0.        0.        0.\n",
      "    0.        0.        0.        0.        0.        0.        0.        0.\n",
      "    0.        0.       89.9444    0.        0.        0.        0.        0.\n",
      "    0.        0.        0.        0.        0.        0.        0.        0.\n",
      "    0.        0.        0.        0.        0.        0.        0.\n",
      "   90.5176    0.        0.        0.        0.        0.        0.        0.\n",
      "    0.        0.        0.        0.        0.        0.        0.        0.\n",
      "    0.        0.        0.        0.        0.       91.1243    0.        0.\n",
      "    0.        0.        0.        0.        0.        0.        0.        0.\n",
      "    0.        0.        0.        0.        0.        0.        0.        0.\n",
      "    0.        0.       91.7637    0.        0.        0.        0.        0.\n",
      "    0.        0.        0.        0.        0.        0.        0.        0.\n",
      "    0.        0.        0.        0.        0.        0.        0.\n",
      "   92.4352    0.        0.        0.        0.        0.        0.        0.\n",
      "    0.        0.        0.        0.        0.        0.        0.        0.\n",
      "    0.        0.        0.        0.        0.       46.3894    0.        0.\n",
      "    0.        0.        0.        0.        0.        0.        0.        0.\n",
      "    0.        0.        0.        0.        0.        0.        0.        0.\n",
      "    0.        0.    ]\n"
     ]
    }
   ],
   "source": [
    "# compute the reaction f_E\n",
    "f_E = np.dot(K_EE, T_E) + np.dot(K_EF, T_F)\n",
    "# reconstruct the global reactions f\n",
    "f[mask_E] = f_E\n",
    "f[~mask_E] = f_F\n",
    "f;"
   ]
  },
  {
   "cell_type": "code",
   "execution_count": 48,
   "metadata": {
    "collapsed": false
   },
   "outputs": [
    {
     "data": {
      "image/png": "[encoded data removed]",
      "text/plain": [
       "<matplotlib.figure.Figure at 0x7f770d753ba8>"
      ]
     },
     "metadata": {},
     "output_type": "display_data"
    },
    {
     "data": {
      "image/png": "[encoded data removed]",
      "text/plain": [
       "<matplotlib.figure.Figure at 0x7f770d753978>"
      ]
     },
     "metadata": {},
     "output_type": "display_data"
    },
    {
     "data": {
      "image/png": "[encoded data removed]",
      "text/plain": [
       "<matplotlib.figure.Figure at 0x7f770d7c1898>"
      ]
     },
     "metadata": {},
     "output_type": "display_data"
    }
   ],
   "source": [
    "# Display matrices\n",
    "mask0 = np.where(K_EE==0)\n",
    "K_EE0 = np.copy(K_EE)\n",
    "K_EE0[mask0] = np.nan\n",
    "plt.matshow(K_EE0, cmap='viridis')\n",
    "plt.title('K_EE')\n",
    "\n",
    "mask0 = np.where(K_EF==0)\n",
    "K_EF0 = np.copy(K_EF)\n",
    "K_EF0[mask0] = np.nan\n",
    "plt.matshow(K_EF0, cmap='viridis')\n",
    "plt.title('K_EF')\n",
    "\n",
    "mask0 = np.where(K_FF==0)\n",
    "K_FF0 = np.copy(K_FF)\n",
    "K_FF0[mask0] = np.nan\n",
    "plt.matshow(K_FF0, cmap='viridis')\n",
    "plt.title('K_FF');"
   ]
  },
  {
   "cell_type": "code",
   "execution_count": 49,
   "metadata": {
    "collapsed": true
   },
   "outputs": [],
   "source": [
    "# Node coordinates and values\n",
    "x, y = Coord.T\n",
    "z = T\n",
    "z;"
   ]
  },
  {
   "cell_type": "code",
   "execution_count": 50,
   "metadata": {
    "collapsed": false,
    "scrolled": true
   },
   "outputs": [
    {
     "name": "stdout",
     "output_type": "stream",
     "text": [
      "[ 0.      0.0857  0.1714  0.2571  0.3429  0.4286  0.5143  0.6     0.6857\n",
      "  0.7714  0.8571  0.9429  1.0286  1.1143  1.2     1.2857  1.3714  1.4571\n",
      "  1.5429  1.6286  1.7143  1.8     1.8857  1.9714  2.0571  2.1429  2.2286\n",
      "  2.3143  2.4     2.4857  2.5714  2.6571  2.7429  2.8286  2.9143  3.    ]\n",
      "[-20.     -18.2857 -16.5714 -14.8571 -13.1429 -11.4286  -9.7143  -8.\n",
      "  -6.2857  -4.5714  -2.8571  -1.1429   0.5714   2.2857   4.       5.7143\n",
      "   7.4286   9.1429  10.8571  12.5714  14.2857  16.      17.7143  19.4286\n",
      "  21.1429  22.8571  24.5714  26.2857  28.      29.7143  31.4286  33.1429\n",
      "  34.8571  36.5714  38.2857  40.    ]\n",
      "[ -20.      -16.6796  -12.0287   -6.8541   -1.3043    4.5079   10.5086\n",
      "   16.6382   22.8451   29.0817   35.302    41.4611   47.5146   53.4189\n",
      "   59.132    64.6148   69.8314   74.7511   79.3487   83.6052   87.5082\n",
      "   91.0517   94.2356   97.0651   99.5498  101.7031  103.5407  105.0809\n",
      "  106.3432  107.3484  108.1187  108.6775  109.0506  109.2672  109.362\n",
      "  109.3815]\n"
     ]
    },
    {
     "data": {
      "image/png": "[encoded data removed]",
      "text/plain": [
       "<matplotlib.figure.Figure at 0x7f770e1529e8>"
      ]
     },
     "metadata": {},
     "output_type": "display_data"
    }
   ],
   "source": [
    "nodes = NodeTopo[-1,:]  # Find solution at left edge\n",
    "# Analytical solution for beam with constant height\n",
    "z_an = -(x[nodes]) * q / kx + T0  \n",
    "# Plot\n",
    "plt.plot(x[nodes], z[nodes], label='FE')  # FE results\n",
    "plt.plot(x[nodes], z_an, label='Analytical')  # Analytical results\n",
    "plt.legend()\n",
    "z[nodes], z_an"
   ]
  },
  {
   "cell_type": "code",
   "execution_count": 51,
   "metadata": {
    "collapsed": true
   },
   "outputs": [],
   "source": [
    "from vtk_io import write as vtkw\n",
    "\n",
    "points = np.insert(Coord, 2, 0, axis=1)\n",
    "\n",
    "cells = {'quad': ElemNode[:, 1:]}\n",
    "\n",
    "point_data = {'disp': T}\n",
    "\n",
    "vtkw(\n",
    "    'disp3.vtk',\n",
    "    points,\n",
    "    cells,\n",
    "    point_data=point_data,\n",
    "    # Optionally provide extra data on points, cells, etc.\n",
    "    # cell_data=cell_data,\n",
    "    # field_data=field_data\n",
    "    # write_binary=False,\n",
    ")"
   ]
  }
 ],
 "metadata": {
  "kernelspec": {
   "display_name": "Python 3",
   "language": "python",
   "name": "python3"
  },
  "language_info": {
   "codemirror_mode": {
    "name": "ipython",
    "version": 3
   },
   "file_extension": ".py",
   "mimetype": "text/x-python",
   "name": "python",
   "nbconvert_exporter": "python",
   "pygments_lexer": "ipython3",
   "version": "3.5.3"
  },
  "latex_envs": {
   "LaTeX_envs_menu_present": false,
   "autocomplete": true,
   "bibliofile": "biblio.bib",
   "cite_by": "number",
   "current_citInitial": 1,
   "eqLabelWithNumbers": true,
   "eqNumInitial": 1,
   "hotkeys": {
    "equation": "Ctrl-E",
    "itemize": "Ctrl-I"
   },
   "labels_anchors": false,
   "latex_user_defs": true,
   "report_style_numbering": false,
   "user_envs_cfg": false
  },
  "nbTranslate": {
   "displayLangs": [
    "*"
   ],
   "hotkey": "alt-t",
   "langInMainMenu": true,
   "sourceLang": "en",
   "targetLang": "fr",
   "useGoogleTranslate": true
  },
  "toc": {
   "nav_menu": {},
   "number_sections": false,
   "sideBar": true,
   "skip_h1_title": false,
   "toc_cell": false,
   "toc_position": {},
   "toc_section_display": "block",
   "toc_window_display": true
  },
  "varInspector": {
   "cols": {
    "lenName": 16,
    "lenType": 16,
    "lenVar": 40
   },
   "kernels_config": {
    "python": {
     "delete_cmd_postfix": "",
     "delete_cmd_prefix": "del ",
     "library": "var_list.py",
     "varRefreshCmd": "print(var_dic_list())"
    },
    "r": {
     "delete_cmd_postfix": ") ",
     "delete_cmd_prefix": "rm(",
     "library": "var_list.r",
     "varRefreshCmd": "cat(var_dic_list()) "
    }
   },
   "position": {
    "height": "308px",
    "left": "2127px",
    "right": "20px",
    "top": "120px",
    "width": "350px"
   },
   "types_to_exclude": [
    "module",
    "function",
    "builtin_function_or_method",
    "instance",
    "_Feature"
   ],
   "window_display": true
  }
 },
 "nbformat": 4,
 "nbformat_minor": 2
}
